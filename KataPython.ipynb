{
  "cells": [
    {
      "cell_type": "code",
      "execution_count": null,
      "metadata": {
        "id": "Kpx6ioEUzpCk"
      },
      "outputs": [],
      "source": [
        "# Kata code war solutions for Python"
      ]
    },
    {
      "cell_type": "code",
      "execution_count": null,
      "metadata": {
        "colab": {
          "base_uri": "https://localhost:8080/"
        },
        "id": "UopThCEezs2g",
        "outputId": "5e19fc59-15ac-44f0-c21a-8695f88934c7"
      },
      "outputs": [
        {
          "name": "stdout",
          "output_type": "stream",
          "text": [
            "Hi i am abhish\n",
            "Hi I Am Abhish\n"
          ]
        }
      ],
      "source": [
        "s = \"hi i am abhish\"\n",
        "s_split = s.split()\n",
        "thisList =[]\n",
        "for x in s_split:\n",
        "  \n",
        "  thisList.append(x.capitalize())\n",
        "\n",
        "final = \" \".join(thisList)\n",
        "\n",
        "print(s.capitalize())\n",
        "print(final)"
      ]
    },
    {
      "cell_type": "markdown",
      "metadata": {
        "id": "v6usWc7U19b_"
      },
      "source": [
        "### kata 1\n",
        "Jaden Smith, the son of Will Smith, is the star of films such as The Karate Kid (2010) and After Earth (2013). Jaden is also known for some of his philosophy that he delivers via Twitter. When writing on Twitter, he is known for almost always capitalizing every word. For simplicity, you'll have to capitalize each word, check out how contractions are expected to be in the example below.\n",
        "\n",
        "Your task is to convert strings to how they would be written by Jaden Smith. The strings are actual quotes from Jaden Smith, but they are not capitalized in the same way he originally typed them.\n",
        "\n",
        "Example:\n",
        "\n",
        "Not Jaden-Cased: \"How can mirrors be real if our eyes aren't real\"\n",
        "Jaden-Cased:     \"How Can Mirrors Be Real If Our Eyes Aren't Rea"
      ]
    },
    {
      "cell_type": "code",
      "execution_count": null,
      "metadata": {
        "id": "qg9SZW2M1_Dt"
      },
      "outputs": [],
      "source": [
        "def toJadenCase(string):\n",
        "    return ' '.join(x.capitalize() for x in string.split())"
      ]
    },
    {
      "cell_type": "code",
      "execution_count": null,
      "metadata": {
        "id": "eFqpbFZp31W0"
      },
      "outputs": [],
      "source": [
        "import string\n",
        "toJadenCase = string.capwords"
      ]
    },
    {
      "cell_type": "markdown",
      "metadata": {
        "id": "B-0Q1XYJ4YDH"
      },
      "source": [
        "### kata 2\n",
        "Implement a function that adds two numbers together and returns their sum in binary. The conversion can be done before, or after the addition.\n",
        "\n",
        "The binary number returned should be a string.\n",
        "\n",
        "Examples:(Input1, Input2 --> Output (explanation)))\n",
        "\n",
        "1, 1 --> \"10\" (1 + 1 = 2 in decimal or 10 in binary)\n",
        "5, 9 --> \"1110\" (5 + 9 = 14 in decimal or 1110 in binary)\n",
        "\n"
      ]
    },
    {
      "cell_type": "code",
      "execution_count": null,
      "metadata": {
        "colab": {
          "base_uri": "https://localhost:8080/"
        },
        "id": "Uul2RPs445bO",
        "outputId": "8ae979f6-b587-46e0-f887-9756b0dc983c"
      },
      "outputs": [
        {
          "name": "stdout",
          "output_type": "stream",
          "text": [
            "5 + 9 = 14 in decimal or 1110 in binary\n"
          ]
        }
      ],
      "source": [
        "def add_binary(a,b):\n",
        "  num = a + b\n",
        "  binaryNum = \"{0:b}\".format(int(num))\n",
        "  #statment = (f\"{a} + {b} = {num} in decimal or {binaryNum} in binary\")\n",
        "  return binaryNum\n",
        "\n",
        "  \n",
        "print(add_binary(5,9))"
      ]
    },
    {
      "cell_type": "code",
      "execution_count": null,
      "metadata": {
        "colab": {
          "base_uri": "https://localhost:8080/",
          "height": 35
        },
        "id": "dsiQtp7A9KfT",
        "outputId": "1d4f92ba-ed98-4966-b233-5facd12348b8"
      },
      "outputs": [
        {
          "data": {
            "application/vnd.google.colaboratory.intrinsic+json": {
              "type": "string"
            },
            "text/plain": [
              "'10110'"
            ]
          },
          "execution_count": 25,
          "metadata": {},
          "output_type": "execute_result"
        }
      ],
      "source": [
        "#Method 1: bin for binary\n",
        "def add_binary(a,b):\n",
        "    return bin(a+b)[2:]\n",
        "add_binary(10,12)"
      ]
    },
    {
      "cell_type": "code",
      "execution_count": null,
      "metadata": {
        "id": "hjvu5cPY9QIX"
      },
      "outputs": [],
      "source": [
        "#Method 2:\n",
        "def add_binary(a,b):\n",
        "    return '{0:b}'.format(a + b)"
      ]
    },
    {
      "cell_type": "markdown",
      "metadata": {
        "id": "eBYlhoWa9xyf"
      },
      "source": [
        "### Kata 3\n",
        "\n",
        "Create a function that returns the sum of the two lowest positive numbers given an array of minimum 4 positive integers. No floats or non-positive integers will be passed.\n",
        "\n",
        "For example, when an array is passed like [19, 5, 42, 2, 77], the output should be 7.\n",
        "\n",
        "[10, 343445353, 3453445, 3453545353453] should return 3453455."
      ]
    },
    {
      "cell_type": "code",
      "execution_count": null,
      "metadata": {
        "colab": {
          "base_uri": "https://localhost:8080/"
        },
        "id": "T3JgD2Gm-FtL",
        "outputId": "d2ffea78-2baf-4eff-e4af-81999d861043"
      },
      "outputs": [
        {
          "data": {
            "text/plain": [
              "7"
            ]
          },
          "execution_count": 59,
          "metadata": {},
          "output_type": "execute_result"
        }
      ],
      "source": [
        "def sum_two_smallest_numbers(numbers):\n",
        "  numbersList = sorted(numbers)\n",
        "  return numbersList[0] + numbersList[1]\n",
        "sum_two_smallest_numbers([8,3,4,5,6])"
      ]
    },
    {
      "cell_type": "code",
      "execution_count": null,
      "metadata": {
        "id": "6oTN8n0lIEc4"
      },
      "outputs": [],
      "source": [
        "#method 1:\n",
        "def sum_two_smallest_numbers(numbers):\n",
        "    return sum(sorted(numbers)[:2])"
      ]
    },
    {
      "cell_type": "code",
      "execution_count": null,
      "metadata": {
        "id": "xtOOzlcMKoNr"
      },
      "outputs": [],
      "source": [
        "#method 2\n",
        "\n",
        "import heapq\n",
        "def sum_two_smallest_numbers(numbers):\n",
        "    return sum(heapq.nsmallest(2, numbers))\n",
        "\n",
        "    "
      ]
    },
    {
      "cell_type": "markdown",
      "metadata": {
        "id": "VyUflVMGNA0l"
      },
      "source": [
        "### Kata 4\n",
        "A Narcissistic Number is a positive number which is the sum of its own digits, each raised to the power of the number of digits in a given base. In this Kata, we will restrict ourselves to decimal (base 10).\n",
        "\n",
        "For example, take 153 (3 digits), which is narcisstic:\n",
        "\n",
        "    1^3 + 5^3 + 3^3 = 1 + 125 + 27 = 153\n",
        "and 1652 (4 digits), which isn't:\n",
        "\n",
        "    1^4 + 6^4 + 5^4 + 2^4 = 1 + 1296 + 625 + 16 = 1938"
      ]
    },
    {
      "cell_type": "code",
      "execution_count": null,
      "metadata": {
        "colab": {
          "base_uri": "https://localhost:8080/"
        },
        "id": "w5tMacQ7NEmN",
        "outputId": "9804e4f1-cbe0-4366-b453-0cda84a8f127"
      },
      "outputs": [
        {
          "data": {
            "text/plain": [
              "True"
            ]
          },
          "execution_count": 80,
          "metadata": {},
          "output_type": "execute_result"
        }
      ],
      "source": [
        "def narcissistic( value ):\n",
        "    # Code away\n",
        "  strValue = str(value)\n",
        "  lenghtValue = len(strValue)\n",
        "  sum = 0\n",
        "  for element in strValue:\n",
        "    sum = sum + int(element)**lenghtValue\n",
        "  if(sum == value):\n",
        "    return True\n",
        "  else: return False\n",
        "\n",
        "narcissistic(371)"
      ]
    },
    {
      "cell_type": "code",
      "execution_count": null,
      "metadata": {
        "id": "cycYUKlvTqm-"
      },
      "outputs": [],
      "source": [
        "# method 1:\n",
        "def narcissistic(value):\n",
        "    return value == sum(int(x) ** len(str(value)) for x in str(value))"
      ]
    },
    {
      "cell_type": "code",
      "execution_count": null,
      "metadata": {
        "id": "NnMrCIrfT6Lp"
      },
      "outputs": [],
      "source": [
        "# method 2:\n",
        "def narcissistic( value ):\n",
        "    vstr = str(value)\n",
        "    nvalue = sum(int(i)**len(vstr) for i in vstr)\n",
        "    return nvalue == value"
      ]
    },
    {
      "cell_type": "markdown",
      "metadata": {
        "id": "Xa8m0xeuUFkC"
      },
      "source": [
        "### Kata 5\n",
        "Count the number of Duplicates\n",
        "Write a function that will return the count of distinct case-insensitive alphabetic characters and numeric digits that occur more than once in the input string. The input string can be assumed to contain only alphabets (both uppercase and lowercase) and numeric digits.\n",
        "\n",
        "Example\n",
        "\"abcde\" -> 0 # no characters repeats more than once\n",
        "\"aabbcde\" -> 2 # 'a' and 'b'\n",
        "\"aabBcde\" -> 2 # 'a' occurs twice and 'b' twice (`b` and `B`)\n",
        "\"indivisibility\" -> 1 # 'i' occurs six times\n",
        "\"Indivisibilities\" -> 2 # 'i' occurs seven times and 's' occurs twice\n",
        "\"aA11\" -> 2 # 'a' and '1'\n",
        "\"ABBA\" -> 2 # 'A' and 'B' each occur twice\n",
        "\n"
      ]
    },
    {
      "cell_type": "code",
      "execution_count": null,
      "metadata": {
        "colab": {
          "base_uri": "https://localhost:8080/",
          "height": 35
        },
        "id": "Xvnko4HUUVgu",
        "outputId": "a93223d2-3b21-44f2-9b2e-ba6c996de14f"
      },
      "outputs": [
        {
          "data": {
            "application/vnd.google.colaboratory.intrinsic+json": {
              "type": "string"
            },
            "text/plain": [
              "'f'"
            ]
          },
          "execution_count": 83,
          "metadata": {},
          "output_type": "execute_result"
        }
      ],
      "source": [
        "def duplicate_count(text):\n",
        "    # Your code goes here\n",
        "    txtlist = []\n",
        "    txtlenght = len(text)\n",
        "    for element in text:\n",
        "      txtlist.append(element) \n",
        "    \n",
        "    return txtlist[2]\n",
        "\n",
        "duplicate_count(\"adfds\")"
      ]
    },
    {
      "cell_type": "code",
      "execution_count": null,
      "metadata": {
        "colab": {
          "base_uri": "https://localhost:8080/"
        },
        "id": "T8PF8V4wXzww",
        "outputId": "871dba5e-ed0c-4843-90be-024362363de1"
      },
      "outputs": [
        {
          "name": "stdout",
          "output_type": "stream",
          "text": [
            "2\n"
          ]
        }
      ],
      "source": [
        "from collections import OrderedDict \n",
        "  \n",
        "def duplicate_count(text):\n",
        "    text = text.lower()\n",
        "    textlist = []\n",
        "    for element in str(text): textlist.append(element)\n",
        "\n",
        "    listres = []\n",
        "    res =  [(ele, text.count(ele)) for ele in text]\n",
        "    listres =  list(OrderedDict(res).items())\n",
        "    sum = 0\n",
        "    for i in range(len(listres)):\n",
        "      if(listres[i][1] > 1): sum += 1\n",
        "    \n",
        "    return sum"
      ]
    },
    {
      "cell_type": "code",
      "execution_count": null,
      "metadata": {
        "id": "nJKrTC8IwFyz"
      },
      "outputs": [],
      "source": [
        "#method 1: \n",
        "def duplicate_count(s):\n",
        "  return len([c for c in set(s.lower()) if s.lower().count(c)>1])"
      ]
    },
    {
      "cell_type": "code",
      "execution_count": null,
      "metadata": {
        "id": "2SqFpSy9wVLz"
      },
      "outputs": [],
      "source": [
        "#method 2:\n",
        "def duplicate_count(text):\n",
        "    seen = set()\n",
        "    dupes = set()\n",
        "    for char in text:\n",
        "        char = char.lower()\n",
        "        if char in seen:\n",
        "            dupes.add(char)\n",
        "        seen.add(char)\n",
        "    return len(dupes)"
      ]
    }
  ],
  "metadata": {
    "colab": {
      "collapsed_sections": [],
      "name": "KataPython.ipynb",
      "provenance": []
    },
    "kernelspec": {
      "display_name": "Python 3",
      "name": "python3"
    },
    "language_info": {
      "name": "python"
    }
  },
  "nbformat": 4,
  "nbformat_minor": 0
}
